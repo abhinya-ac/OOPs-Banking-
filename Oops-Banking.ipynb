{
 "cells": [
  {
   "cell_type": "code",
   "execution_count": 1,
   "id": "51e6f773-4b49-489f-b141-9e01452323fe",
   "metadata": {},
   "outputs": [],
   "source": [
    "class BankAccount:  \n",
    "    def __init__(self, username, password):  \n",
    "        self.username = username  \n",
    "        self.password = password  \n",
    "        self.balance = 0.0  \n",
    "\n",
    "    def deposit(self, amount):  \n",
    "        if amount > 0:  \n",
    "            self.balance += amount  \n",
    "            print(f\"Successfully deposited ${amount:.2f}. New balance: ${self.balance:.2f}\")  \n",
    "        else:  \n",
    "            print(\"Deposit amount must be positive!\")  \n",
    "\n",
    "    def withdraw(self, amount):  \n",
    "        if 0 < amount <= self.balance:  \n",
    "            self.balance -= amount  \n",
    "            print(f\"Successfully withdrew ${amount:.2f}. New balance: ${self.balance:.2f}\")  \n",
    "        else:  \n",
    "            if amount <= 0:  \n",
    "                print(\"Withdrawal amount must be positive!\")  \n",
    "            else:  \n",
    "                print(\"Insufficient funds!\")  \n",
    "\n",
    "    def get_balance(self):  \n",
    "        return self.balance  "
   ]
  },
  {
   "cell_type": "code",
   "execution_count": null,
   "id": "09e0b413-c69d-4c74-9114-8fbe7a4cad11",
   "metadata": {},
   "outputs": [
    {
     "name": "stdout",
     "output_type": "stream",
     "text": [
      "\n",
      "Welcome to the Banking System!\n",
      "1. Create Account\n",
      "2. Login\n",
      "3. Exit\n"
     ]
    },
    {
     "name": "stdin",
     "output_type": "stream",
     "text": [
      "Select an option:  1\n",
      "Enter a username:  Abhinya\n",
      "Enter a password:  12345\n"
     ]
    },
    {
     "name": "stdout",
     "output_type": "stream",
     "text": [
      "Account created successfully!\n",
      "\n",
      "Welcome to the Banking System!\n",
      "1. Create Account\n",
      "2. Login\n",
      "3. Exit\n"
     ]
    },
    {
     "name": "stdin",
     "output_type": "stream",
     "text": [
      "Select an option:  2\n",
      "Enter your username:  Abhinya\n",
      "Enter your password:  12345\n"
     ]
    },
    {
     "name": "stdout",
     "output_type": "stream",
     "text": [
      "Logged in successfully!\n",
      "\n",
      "Banking Operations:\n",
      "1. Deposit Money\n",
      "2. Withdraw Money\n",
      "3. Check Balance\n",
      "4. Logout\n"
     ]
    },
    {
     "name": "stdin",
     "output_type": "stream",
     "text": [
      "Select an option:  1\n",
      "Enter amount to deposit:  80000\n"
     ]
    },
    {
     "name": "stdout",
     "output_type": "stream",
     "text": [
      "Successfully deposited $80000.00. New balance: $80000.00\n",
      "\n",
      "Banking Operations:\n",
      "1. Deposit Money\n",
      "2. Withdraw Money\n",
      "3. Check Balance\n",
      "4. Logout\n"
     ]
    },
    {
     "name": "stdin",
     "output_type": "stream",
     "text": [
      "Select an option:  2\n",
      "Enter amount to withdraw:  4000\n"
     ]
    },
    {
     "name": "stdout",
     "output_type": "stream",
     "text": [
      "Successfully withdrew $4000.00. New balance: $76000.00\n",
      "\n",
      "Banking Operations:\n",
      "1. Deposit Money\n",
      "2. Withdraw Money\n",
      "3. Check Balance\n",
      "4. Logout\n"
     ]
    },
    {
     "name": "stdin",
     "output_type": "stream",
     "text": [
      "Select an option:  3\n"
     ]
    },
    {
     "name": "stdout",
     "output_type": "stream",
     "text": [
      "Your current balance is: $76000.00\n",
      "\n",
      "Banking Operations:\n",
      "1. Deposit Money\n",
      "2. Withdraw Money\n",
      "3. Check Balance\n",
      "4. Logout\n"
     ]
    },
    {
     "name": "stdin",
     "output_type": "stream",
     "text": [
      "Select an option:  3\n"
     ]
    },
    {
     "name": "stdout",
     "output_type": "stream",
     "text": [
      "Your current balance is: $76000.00\n",
      "\n",
      "Banking Operations:\n",
      "1. Deposit Money\n",
      "2. Withdraw Money\n",
      "3. Check Balance\n",
      "4. Logout\n"
     ]
    },
    {
     "name": "stdin",
     "output_type": "stream",
     "text": [
      "Select an option:  4\n"
     ]
    },
    {
     "name": "stdout",
     "output_type": "stream",
     "text": [
      "Logging out...\n",
      "\n",
      "Welcome to the Banking System!\n",
      "1. Create Account\n",
      "2. Login\n",
      "3. Exit\n"
     ]
    }
   ],
   "source": [
    " class BankingSystem:  \n",
    "    def __init__(self):  \n",
    "        self.accounts = {}  \n",
    "\n",
    "    def create_account(self):  \n",
    "        username = input(\"Enter a username: \")  \n",
    "        if username in self.accounts:  \n",
    "            print(\"Username already exists. Try a different one.\")  \n",
    "            return  \n",
    "        password = input(\"Enter a password: \")  \n",
    "        self.accounts[username] = BankAccount(username, password)  \n",
    "        print(\"Account created successfully!\")  \n",
    "\n",
    "    def login(self):  \n",
    "        username = input(\"Enter your username: \")  \n",
    "        password = input(\"Enter your password: \")  \n",
    "        \n",
    "        account = self.accounts.get(username)  \n",
    "\n",
    "        if account and account.password == password:  \n",
    "            print(\"Logged in successfully!\")  \n",
    "            self.banking_operations(account)  \n",
    "        else:  \n",
    "            print(\"Invalid username or password.\")  \n",
    "\n",
    "    def banking_operations(self, account):  \n",
    "        while True:  \n",
    "            print(\"\\nBanking Operations:\")  \n",
    "            print(\"1. Deposit Money\")  \n",
    "            print(\"2. Withdraw Money\")  \n",
    "            print(\"3. Check Balance\")  \n",
    "            print(\"4. Logout\")  \n",
    "            action = input(\"Select an option: \")  \n",
    "\n",
    "            if action == '1':  \n",
    "                amount = float(input(\"Enter amount to deposit: \"))  \n",
    "                account.deposit(amount)  \n",
    "            elif action == '2':  \n",
    "                amount = float(input(\"Enter amount to withdraw: \"))  \n",
    "                account.withdraw(amount)  \n",
    "            elif action == '3':  \n",
    "                print(f\"Your current balance is: ${account.get_balance():.2f}\")  \n",
    "            elif action == '4':  \n",
    "                print(\"Logging out...\")  \n",
    "                break  \n",
    "            else:  \n",
    "                print(\"Invalid option. Please try again.\")  \n",
    "\n",
    "    def run(self):  \n",
    "        while True:  \n",
    "            print(\"\\nWelcome to the Banking System!\")  \n",
    "            print(\"1. Create Account\")  \n",
    "            print(\"2. Login\")  \n",
    "            print(\"3. Exit\")  \n",
    "            choice = input(\"Select an option: \")  \n",
    "\n",
    "            if choice == '1':  \n",
    "                self.create_account()  \n",
    "            elif choice == '2':  \n",
    "                self.login()  \n",
    "            elif choice == '3':  \n",
    "                print(\"Exiting the banking system. Goodbye!\")  \n",
    "                break  \n",
    "            else:  \n",
    "                print(\"Invalid option. Please try again.\")  \n",
    "\n",
    "\n",
    "if __name__ == \"__main__\":  \n",
    "    banking_system = BankingSystem()  \n",
    "    banking_system.run()  "
   ]
  },
  {
   "cell_type": "code",
   "execution_count": null,
   "id": "dfb3b360-bfe4-43a3-b2f2-a5932180704c",
   "metadata": {},
   "outputs": [],
   "source": []
  }
 ],
 "metadata": {
  "kernelspec": {
   "display_name": "Python 3 (ipykernel)",
   "language": "python",
   "name": "python3"
  },
  "language_info": {
   "codemirror_mode": {
    "name": "ipython",
    "version": 3
   },
   "file_extension": ".py",
   "mimetype": "text/x-python",
   "name": "python",
   "nbconvert_exporter": "python",
   "pygments_lexer": "ipython3",
   "version": "3.12.4"
  }
 },
 "nbformat": 4,
 "nbformat_minor": 5
}
